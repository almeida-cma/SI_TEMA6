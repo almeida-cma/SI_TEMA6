{
  "nbformat": 4,
  "nbformat_minor": 0,
  "metadata": {
    "colab": {
      "provenance": [],
      "authorship_tag": "ABX9TyNu0u+ds/40NTDNcWQ+7duc",
      "include_colab_link": true
    },
    "kernelspec": {
      "name": "python3",
      "display_name": "Python 3"
    },
    "language_info": {
      "name": "python"
    }
  },
  "cells": [
    {
      "cell_type": "markdown",
      "metadata": {
        "id": "view-in-github",
        "colab_type": "text"
      },
      "source": [
        "<a href=\"https://colab.research.google.com/github/almeida-cma/SI_TEMA6/blob/main/DATA_MART.ipynb\" target=\"_parent\"><img src=\"https://colab.research.google.com/assets/colab-badge.svg\" alt=\"Open In Colab\"/></a>"
      ]
    },
    {
      "cell_type": "code",
      "execution_count": null,
      "metadata": {
        "colab": {
          "base_uri": "https://localhost:8080/"
        },
        "id": "6arajHkj8Nad",
        "outputId": "755384af-c7a9-4e06-8237-7ce079d7f1c2"
      },
      "outputs": [
        {
          "output_type": "stream",
          "name": "stdout",
          "text": [
            "Data Warehouse (amostra):\n",
            "     Produto Regiao  Quantidade  Valor_Unitario       Data  Valor_Total\n",
            "0  Produto B  Leste           8       71.337769 2024-01-01   570.702151\n",
            "1  Produto B  Oeste           6       76.419956 2024-01-02   458.519737\n",
            "2  Produto A    Sul           5       96.376349 2024-01-03   481.881746\n",
            "3  Produto A  Oeste           7       86.249405 2024-01-04   603.745836\n",
            "4  Produto A    Sul           2       47.776590 2024-01-05    95.553181\n",
            "\n",
            "Data Mart (Região Norte):\n",
            "      Produto Regiao  Quantidade  Valor_Unitario       Data  Valor_Total\n",
            "15  Produto C  Norte           6       65.739006 2024-01-16   394.434036\n",
            "17  Produto B  Norte           2       77.142509 2024-01-18   154.285018\n",
            "18  Produto C  Norte           8       14.384963 2024-01-19   115.079703\n",
            "21  Produto A  Norte           5       19.173348 2024-01-22    95.866741\n",
            "22  Produto A  Norte           3       12.128237 2024-01-23    36.384712\n",
            "\n",
            "MSE do modelo: 16390.05\n",
            "Coeficiente: 52.43\n",
            "Intercepto: 23.51\n"
          ]
        }
      ],
      "source": [
        "# Exemplo Prático de Data Warehouse, Data Mart e Mineração de Dados\n",
        "# Este notebook demonstra conceitos de Data Warehouse, Data Mart e Mineração de Dados usando Python.\n",
        "\n",
        "import pandas as pd\n",
        "import numpy as np\n",
        "from sklearn.linear_model import LinearRegression\n",
        "from sklearn.model_selection import train_test_split\n",
        "from sklearn.metrics import mean_squared_error\n",
        "\n",
        "# 1. Simulação de um Data Warehouse\n",
        "# Criamos um conjunto de dados fictício que simula registros de vendas em diferentes regiões.\n",
        "\n",
        "# Simulação de dados de vendas\n",
        "data = {\n",
        "    'Produto': np.random.choice(['Produto A', 'Produto B', 'Produto C'], size=100),\n",
        "    'Regiao': np.random.choice(['Norte', 'Sul', 'Leste', 'Oeste'], size=100),\n",
        "    'Quantidade': np.random.randint(1, 10, size=100),\n",
        "    'Valor_Unitario': np.random.uniform(10.0, 100.0, size=100),\n",
        "    'Data': pd.date_range(start='2024-01-01', periods=100)\n",
        "}\n",
        "\n",
        "# Criação do DataFrame\n",
        "df_warehouse = pd.DataFrame(data)\n",
        "df_warehouse['Valor_Total'] = df_warehouse['Quantidade'] * df_warehouse['Valor_Unitario']\n",
        "print(\"Data Warehouse (amostra):\")\n",
        "print(df_warehouse.head())\n",
        "\n",
        "# 2. Simulação de um Data Mart\n",
        "# Filtramos os dados para criar um Data Mart específico para a região Norte.\n",
        "\n",
        "# Filtrando dados da região Norte\n",
        "data_mart_norte = df_warehouse[df_warehouse['Regiao'] == 'Norte']\n",
        "print(\"\\nData Mart (Região Norte):\")\n",
        "print(data_mart_norte.head())\n",
        "\n",
        "# 3. Mineração de Dados (Regressão Simples)\n",
        "# Prevemos o valor total com base na quantidade vendida usando regressão linear simples.\n",
        "\n",
        "# Separando variáveis independentes e dependentes\n",
        "X = df_warehouse[['Quantidade']]\n",
        "y = df_warehouse['Valor_Total']\n",
        "\n",
        "# Dividindo os dados em treino e teste\n",
        "X_train, X_test, y_train, y_test = train_test_split(X, y, test_size=0.2, random_state=42)\n",
        "\n",
        "# Treinando o modelo de regressão linear\n",
        "modelo = LinearRegression()\n",
        "modelo.fit(X_train, y_train)\n",
        "\n",
        "# Previsões\n",
        "y_pred = modelo.predict(X_test)\n",
        "\n",
        "# Avaliação do modelo\n",
        "mse = mean_squared_error(y_test, y_pred)\n",
        "print(f\"\\nMSE do modelo: {mse:.2f}\")\n",
        "print(f\"Coeficiente: {modelo.coef_[0]:.2f}\")\n",
        "print(f\"Intercepto: {modelo.intercept_:.2f}\")\n"
      ]
    }
  ]
}