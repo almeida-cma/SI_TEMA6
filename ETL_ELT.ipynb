{
  "nbformat": 4,
  "nbformat_minor": 0,
  "metadata": {
    "colab": {
      "provenance": [],
      "authorship_tag": "ABX9TyNu8tAGvWPUVt2tDUkJ8YsO",
      "include_colab_link": true
    },
    "kernelspec": {
      "name": "python3",
      "display_name": "Python 3"
    },
    "language_info": {
      "name": "python"
    }
  },
  "cells": [
    {
      "cell_type": "markdown",
      "metadata": {
        "id": "view-in-github",
        "colab_type": "text"
      },
      "source": [
        "<a href=\"https://colab.research.google.com/github/almeida-cma/SI_TEMA6/blob/main/ETL_ELT.ipynb\" target=\"_parent\"><img src=\"https://colab.research.google.com/assets/colab-badge.svg\" alt=\"Open In Colab\"/></a>"
      ]
    },
    {
      "cell_type": "code",
      "execution_count": 1,
      "metadata": {
        "colab": {
          "base_uri": "https://localhost:8080/"
        },
        "id": "z-A8Mkcg_xEe",
        "outputId": "64417d20-6929-4b5c-f616-432311344bd0"
      },
      "outputs": [
        {
          "output_type": "stream",
          "name": "stdout",
          "text": [
            "### Processo ETL ###\n",
            "\n",
            "1. Dados extraídos (raw):\n",
            "     Produto  Quantidade  Valor_Unitario Regiao\n",
            "0  Produto A          10            25.5  Norte\n",
            "1  Produto B          15            40.0    Sul\n",
            "2  Produto C           8            15.0  Leste\n",
            "3  Produto D          20            30.0  Oeste\n",
            "\n",
            "2. Dados transformados (adicionando Valor_Total):\n",
            "     Produto  Quantidade  Valor_Unitario Regiao  Valor_Total\n",
            "0  Produto A          10            25.5  Norte        255.0\n",
            "1  Produto B          15            40.0    Sul        600.0\n",
            "2  Produto C           8            15.0  Leste        120.0\n",
            "3  Produto D          20            30.0  Oeste        600.0\n",
            "\n",
            "3. Carregando os dados transformados em uma base final...\n",
            "     Produto  Quantidade  Valor_Unitario Regiao  Valor_Total\n",
            "0  Produto A          10            25.5  Norte        255.0\n",
            "1  Produto B          15            40.0    Sul        600.0\n",
            "2  Produto C           8            15.0  Leste        120.0\n",
            "3  Produto D          20            30.0  Oeste        600.0\n",
            "\n",
            "### Processo ELT ###\n",
            "\n",
            "1. Dados extraídos (raw):\n",
            "     Produto  Quantidade  Valor_Unitario Regiao\n",
            "0  Produto A          10            25.5  Norte\n",
            "1  Produto B          15            40.0    Sul\n",
            "2  Produto C           8            15.0  Leste\n",
            "3  Produto D          20            30.0  Oeste\n",
            "\n",
            "2. Carregando os dados brutos no data warehouse...\n",
            "     Produto  Quantidade  Valor_Unitario Regiao\n",
            "0  Produto A          10            25.5  Norte\n",
            "1  Produto B          15            40.0    Sul\n",
            "2  Produto C           8            15.0  Leste\n",
            "3  Produto D          20            30.0  Oeste\n",
            "\n",
            "3. Transformação dos dados no destino (adicionando Valor_Total):\n",
            "     Produto  Quantidade  Valor_Unitario Regiao  Valor_Total\n",
            "0  Produto A          10            25.5  Norte        255.0\n",
            "1  Produto B          15            40.0    Sul        600.0\n",
            "2  Produto C           8            15.0  Leste        120.0\n",
            "3  Produto D          20            30.0  Oeste        600.0\n"
          ]
        }
      ],
      "source": [
        "import pandas as pd\n",
        "import numpy as np\n",
        "\n",
        "# Simulação de dados de vendas\n",
        "dados = {\n",
        "    'Produto': ['Produto A', 'Produto B', 'Produto C', 'Produto D'],\n",
        "    'Quantidade': [10, 15, 8, 20],\n",
        "    'Valor_Unitario': [25.5, 40.0, 15.0, 30.0],\n",
        "    'Regiao': ['Norte', 'Sul', 'Leste', 'Oeste']\n",
        "}\n",
        "\n",
        "df = pd.DataFrame(dados)\n",
        "\n",
        "### ETL (Extract, Transform, Load)\n",
        "\n",
        "print(\"### Processo ETL ###\")\n",
        "\n",
        "# 1. Extract: Extração dos dados (simulação)\n",
        "print(\"\\n1. Dados extraídos (raw):\")\n",
        "print(df)\n",
        "\n",
        "# 2. Transform: Transformação dos dados (cálculo do Valor_Total)\n",
        "df_etl = df.copy()\n",
        "df_etl['Valor_Total'] = df_etl['Quantidade'] * df_etl['Valor_Unitario']\n",
        "print(\"\\n2. Dados transformados (adicionando Valor_Total):\")\n",
        "print(df_etl)\n",
        "\n",
        "# 3. Load: Carregamento em uma \"base final\" simulada (data warehouse)\n",
        "print(\"\\n3. Carregando os dados transformados em uma base final...\")\n",
        "df_warehouse_etl = df_etl\n",
        "print(df_warehouse_etl)\n",
        "\n",
        "### ELT (Extract, Load, Transform)\n",
        "\n",
        "print(\"\\n### Processo ELT ###\")\n",
        "\n",
        "# 1. Extract: Extração dos dados (simulação)\n",
        "print(\"\\n1. Dados extraídos (raw):\")\n",
        "print(df)\n",
        "\n",
        "# 2. Load: Carregamento direto no ambiente de destino (simulação)\n",
        "print(\"\\n2. Carregando os dados brutos no data warehouse...\")\n",
        "df_warehouse_elt = df.copy()\n",
        "print(df_warehouse_elt)\n",
        "\n",
        "# 3. Transform: Transformação no destino (cálculo do Valor_Total)\n",
        "df_warehouse_elt['Valor_Total'] = df_warehouse_elt['Quantidade'] * df_warehouse_elt['Valor_Unitario']\n",
        "print(\"\\n3. Transformação dos dados no destino (adicionando Valor_Total):\")\n",
        "print(df_warehouse_elt)\n"
      ]
    }
  ]
}